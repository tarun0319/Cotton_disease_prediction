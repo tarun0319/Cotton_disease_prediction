{
  "nbformat": 4,
  "nbformat_minor": 0,
  "metadata": {
    "kernelspec": {
      "display_name": "Python 3",
      "language": "python",
      "name": "python3"
    },
    "language_info": {
      "codemirror_mode": {
        "name": "ipython",
        "version": 3
      },
      "file_extension": ".py",
      "mimetype": "text/x-python",
      "name": "python",
      "nbconvert_exporter": "python",
      "pygments_lexer": "ipython3",
      "version": "3.7.3"
    },
    "colab": {
      "name": "Transfer Learning Inception V3.ipynb",
      "provenance": [],
      "collapsed_sections": []
    },
    "accelerator": "GPU"
  },
  "cells": [
    {
      "cell_type": "markdown",
      "metadata": {
        "id": "-m4pYsYZvlfG",
        "colab_type": "text"
      },
      "source": [
        "## Transfer Learning Inception V3 using Keras"
      ]
    },
    {
      "cell_type": "code",
      "metadata": {
        "id": "15iIe01Dx3sm",
        "colab_type": "code",
        "colab": {
          "base_uri": "https://localhost:8080/",
          "height": 658
        },
        "outputId": "ba38e7d4-402b-4196-947d-fce3caca2ee9"
      },
      "source": [
        "pip install tensorflow-gpu"
      ],
      "execution_count": 105,
      "outputs": [
        {
          "output_type": "stream",
          "text": [
            "Requirement already satisfied: tensorflow-gpu in /usr/local/lib/python3.6/dist-packages (2.3.0)\n",
            "Requirement already satisfied: opt-einsum>=2.3.2 in /usr/local/lib/python3.6/dist-packages (from tensorflow-gpu) (3.3.0)\n",
            "Requirement already satisfied: keras-preprocessing<1.2,>=1.1.1 in /usr/local/lib/python3.6/dist-packages (from tensorflow-gpu) (1.1.2)\n",
            "Requirement already satisfied: numpy<1.19.0,>=1.16.0 in /usr/local/lib/python3.6/dist-packages (from tensorflow-gpu) (1.18.5)\n",
            "Requirement already satisfied: astunparse==1.6.3 in /usr/local/lib/python3.6/dist-packages (from tensorflow-gpu) (1.6.3)\n",
            "Requirement already satisfied: tensorflow-estimator<2.4.0,>=2.3.0 in /usr/local/lib/python3.6/dist-packages (from tensorflow-gpu) (2.3.0)\n",
            "Requirement already satisfied: scipy==1.4.1 in /usr/local/lib/python3.6/dist-packages (from tensorflow-gpu) (1.4.1)\n",
            "Requirement already satisfied: wheel>=0.26 in /usr/local/lib/python3.6/dist-packages (from tensorflow-gpu) (0.35.1)\n",
            "Requirement already satisfied: h5py<2.11.0,>=2.10.0 in /usr/local/lib/python3.6/dist-packages (from tensorflow-gpu) (2.10.0)\n",
            "Requirement already satisfied: protobuf>=3.9.2 in /usr/local/lib/python3.6/dist-packages (from tensorflow-gpu) (3.12.4)\n",
            "Requirement already satisfied: tensorboard<3,>=2.3.0 in /usr/local/lib/python3.6/dist-packages (from tensorflow-gpu) (2.3.0)\n",
            "Requirement already satisfied: termcolor>=1.1.0 in /usr/local/lib/python3.6/dist-packages (from tensorflow-gpu) (1.1.0)\n",
            "Requirement already satisfied: six>=1.12.0 in /usr/local/lib/python3.6/dist-packages (from tensorflow-gpu) (1.15.0)\n",
            "Requirement already satisfied: gast==0.3.3 in /usr/local/lib/python3.6/dist-packages (from tensorflow-gpu) (0.3.3)\n",
            "Requirement already satisfied: google-pasta>=0.1.8 in /usr/local/lib/python3.6/dist-packages (from tensorflow-gpu) (0.2.0)\n",
            "Requirement already satisfied: grpcio>=1.8.6 in /usr/local/lib/python3.6/dist-packages (from tensorflow-gpu) (1.32.0)\n",
            "Requirement already satisfied: wrapt>=1.11.1 in /usr/local/lib/python3.6/dist-packages (from tensorflow-gpu) (1.12.1)\n",
            "Requirement already satisfied: absl-py>=0.7.0 in /usr/local/lib/python3.6/dist-packages (from tensorflow-gpu) (0.10.0)\n",
            "Requirement already satisfied: setuptools in /usr/local/lib/python3.6/dist-packages (from protobuf>=3.9.2->tensorflow-gpu) (50.3.0)\n",
            "Requirement already satisfied: google-auth<2,>=1.6.3 in /usr/local/lib/python3.6/dist-packages (from tensorboard<3,>=2.3.0->tensorflow-gpu) (1.17.2)\n",
            "Requirement already satisfied: werkzeug>=0.11.15 in /usr/local/lib/python3.6/dist-packages (from tensorboard<3,>=2.3.0->tensorflow-gpu) (1.0.1)\n",
            "Requirement already satisfied: tensorboard-plugin-wit>=1.6.0 in /usr/local/lib/python3.6/dist-packages (from tensorboard<3,>=2.3.0->tensorflow-gpu) (1.7.0)\n",
            "Requirement already satisfied: requests<3,>=2.21.0 in /usr/local/lib/python3.6/dist-packages (from tensorboard<3,>=2.3.0->tensorflow-gpu) (2.23.0)\n",
            "Requirement already satisfied: google-auth-oauthlib<0.5,>=0.4.1 in /usr/local/lib/python3.6/dist-packages (from tensorboard<3,>=2.3.0->tensorflow-gpu) (0.4.1)\n",
            "Requirement already satisfied: markdown>=2.6.8 in /usr/local/lib/python3.6/dist-packages (from tensorboard<3,>=2.3.0->tensorflow-gpu) (3.2.2)\n",
            "Requirement already satisfied: pyasn1-modules>=0.2.1 in /usr/local/lib/python3.6/dist-packages (from google-auth<2,>=1.6.3->tensorboard<3,>=2.3.0->tensorflow-gpu) (0.2.8)\n",
            "Requirement already satisfied: rsa<5,>=3.1.4; python_version >= \"3\" in /usr/local/lib/python3.6/dist-packages (from google-auth<2,>=1.6.3->tensorboard<3,>=2.3.0->tensorflow-gpu) (4.6)\n",
            "Requirement already satisfied: cachetools<5.0,>=2.0.0 in /usr/local/lib/python3.6/dist-packages (from google-auth<2,>=1.6.3->tensorboard<3,>=2.3.0->tensorflow-gpu) (4.1.1)\n",
            "Requirement already satisfied: idna<3,>=2.5 in /usr/local/lib/python3.6/dist-packages (from requests<3,>=2.21.0->tensorboard<3,>=2.3.0->tensorflow-gpu) (2.10)\n",
            "Requirement already satisfied: chardet<4,>=3.0.2 in /usr/local/lib/python3.6/dist-packages (from requests<3,>=2.21.0->tensorboard<3,>=2.3.0->tensorflow-gpu) (3.0.4)\n",
            "Requirement already satisfied: certifi>=2017.4.17 in /usr/local/lib/python3.6/dist-packages (from requests<3,>=2.21.0->tensorboard<3,>=2.3.0->tensorflow-gpu) (2020.6.20)\n",
            "Requirement already satisfied: urllib3!=1.25.0,!=1.25.1,<1.26,>=1.21.1 in /usr/local/lib/python3.6/dist-packages (from requests<3,>=2.21.0->tensorboard<3,>=2.3.0->tensorflow-gpu) (1.24.3)\n",
            "Requirement already satisfied: requests-oauthlib>=0.7.0 in /usr/local/lib/python3.6/dist-packages (from google-auth-oauthlib<0.5,>=0.4.1->tensorboard<3,>=2.3.0->tensorflow-gpu) (1.3.0)\n",
            "Requirement already satisfied: importlib-metadata; python_version < \"3.8\" in /usr/local/lib/python3.6/dist-packages (from markdown>=2.6.8->tensorboard<3,>=2.3.0->tensorflow-gpu) (1.7.0)\n",
            "Requirement already satisfied: pyasn1<0.5.0,>=0.4.6 in /usr/local/lib/python3.6/dist-packages (from pyasn1-modules>=0.2.1->google-auth<2,>=1.6.3->tensorboard<3,>=2.3.0->tensorflow-gpu) (0.4.8)\n",
            "Requirement already satisfied: oauthlib>=3.0.0 in /usr/local/lib/python3.6/dist-packages (from requests-oauthlib>=0.7.0->google-auth-oauthlib<0.5,>=0.4.1->tensorboard<3,>=2.3.0->tensorflow-gpu) (3.1.0)\n",
            "Requirement already satisfied: zipp>=0.5 in /usr/local/lib/python3.6/dist-packages (from importlib-metadata; python_version < \"3.8\"->markdown>=2.6.8->tensorboard<3,>=2.3.0->tensorflow-gpu) (3.1.0)\n"
          ],
          "name": "stdout"
        }
      ]
    },
    {
      "cell_type": "code",
      "metadata": {
        "id": "_vC0LsLXy5U7",
        "colab_type": "code",
        "colab": {
          "base_uri": "https://localhost:8080/",
          "height": 353
        },
        "outputId": "f31eafca-670e-4353-8b49-c70734ac0486"
      },
      "source": [
        "!nvidia-smi"
      ],
      "execution_count": 106,
      "outputs": [
        {
          "output_type": "stream",
          "text": [
            "Tue Sep 22 13:30:26 2020       \n",
            "+-----------------------------------------------------------------------------+\n",
            "| NVIDIA-SMI 450.66       Driver Version: 418.67       CUDA Version: 10.1     |\n",
            "|-------------------------------+----------------------+----------------------+\n",
            "| GPU  Name        Persistence-M| Bus-Id        Disp.A | Volatile Uncorr. ECC |\n",
            "| Fan  Temp  Perf  Pwr:Usage/Cap|         Memory-Usage | GPU-Util  Compute M. |\n",
            "|                               |                      |               MIG M. |\n",
            "|===============================+======================+======================|\n",
            "|   0  Tesla T4            Off  | 00000000:00:04.0 Off |                    0 |\n",
            "| N/A   57C    P0    29W /  70W |   8187MiB / 15079MiB |      0%      Default |\n",
            "|                               |                      |                 ERR! |\n",
            "+-------------------------------+----------------------+----------------------+\n",
            "                                                                               \n",
            "+-----------------------------------------------------------------------------+\n",
            "| Processes:                                                                  |\n",
            "|  GPU   GI   CI        PID   Type   Process name                  GPU Memory |\n",
            "|        ID   ID                                                   Usage      |\n",
            "|=============================================================================|\n",
            "|  No running processes found                                                 |\n",
            "+-----------------------------------------------------------------------------+\n"
          ],
          "name": "stdout"
        }
      ]
    },
    {
      "cell_type": "code",
      "metadata": {
        "id": "mTwJCqqRznSo",
        "colab_type": "code",
        "colab": {
          "base_uri": "https://localhost:8080/",
          "height": 35
        },
        "outputId": "cf504094-2099-4d04-993b-fb1f62feef26"
      },
      "source": [
        "import tensorflow as tf\n",
        "tf.__version__"
      ],
      "execution_count": 107,
      "outputs": [
        {
          "output_type": "execute_result",
          "data": {
            "application/vnd.google.colaboratory.intrinsic+json": {
              "type": "string"
            },
            "text/plain": [
              "'2.3.0'"
            ]
          },
          "metadata": {
            "tags": []
          },
          "execution_count": 107
        }
      ]
    },
    {
      "cell_type": "code",
      "metadata": {
        "id": "e29vb-_hvlfO",
        "colab_type": "code",
        "colab": {
          "base_uri": "https://localhost:8080/",
          "height": 70
        },
        "outputId": "b908e63e-07fd-4bb8-cb0b-765759c03a56"
      },
      "source": [
        "from tensorflow.compat.v1 import ConfigProto\n",
        "from tensorflow.compat.v1 import InteractiveSession\n",
        "\n",
        "config = ConfigProto()\n",
        "config.gpu_options.per_process_gpu_memory_fraction = 0.5\n",
        "config.gpu_options.allow_growth = True\n",
        "session = InteractiveSession(config=config)"
      ],
      "execution_count": 108,
      "outputs": [
        {
          "output_type": "stream",
          "text": [
            "/usr/local/lib/python3.6/dist-packages/tensorflow/python/client/session.py:1751: UserWarning: An interactive session is already active. This can cause out-of-memory errors in some cases. You must explicitly call `InteractiveSession.close()` to release resources held by the other session(s).\n",
            "  warnings.warn('An interactive session is already active. This can '\n"
          ],
          "name": "stderr"
        }
      ]
    },
    {
      "cell_type": "markdown",
      "metadata": {
        "id": "1a7PeLk5vlfL",
        "colab_type": "text"
      },
      "source": [
        "Please download the dataset from the below url"
      ]
    },
    {
      "cell_type": "code",
      "metadata": {
        "id": "Mu9gNT9hvlff",
        "colab_type": "code",
        "colab": {}
      },
      "source": [
        "# import the libraries as shown below\n",
        "\n",
        "from tensorflow.keras.layers import Input, Lambda, Dense, Flatten\n",
        "from tensorflow.keras.models import Model\n",
        "from tensorflow.keras.applications.inception_v3 import InceptionV3\n",
        "#from keras.applications.vgg16 import VGG16\n",
        "from tensorflow.keras.applications.inception_v3 import preprocess_input\n",
        "from tensorflow.keras.preprocessing import image\n",
        "from tensorflow.keras.preprocessing.image import ImageDataGenerator,load_img\n",
        "from tensorflow.keras.models import Sequential\n",
        "import numpy as np\n",
        "from glob import glob\n",
        "#import matplotlib.pyplot as plt"
      ],
      "execution_count": 109,
      "outputs": []
    },
    {
      "cell_type": "code",
      "metadata": {
        "id": "rOqTLVPVvlfx",
        "colab_type": "code",
        "colab": {}
      },
      "source": [
        "# re-size all the images to this\n",
        "IMAGE_SIZE = [224, 224]\n",
        "\n",
        "train_path = '/content/drive/My Drive/Datasets/train'\n",
        "valid_path = '/content/drive/My Drive/Datasets/test'\n"
      ],
      "execution_count": 110,
      "outputs": []
    },
    {
      "cell_type": "code",
      "metadata": {
        "id": "_aotCwZHvlf-",
        "colab_type": "code",
        "colab": {}
      },
      "source": [
        "# Import the Vgg 16 library as shown below and add preprocessing layer to the front of VGG\n",
        "# Here we will be using imagenet weights\n",
        "\n",
        "inception = InceptionV3(input_shape=IMAGE_SIZE + [3], weights='imagenet', include_top=False)\n",
        "\n",
        "\n"
      ],
      "execution_count": 111,
      "outputs": []
    },
    {
      "cell_type": "code",
      "metadata": {
        "id": "bS7CCxOPvlgL",
        "colab_type": "code",
        "colab": {}
      },
      "source": [
        "# don't train existing weights\n",
        "for layer in inception.layers:\n",
        "    layer.trainable = False"
      ],
      "execution_count": 112,
      "outputs": []
    },
    {
      "cell_type": "code",
      "metadata": {
        "id": "e_GtgNsRvlgX",
        "colab_type": "code",
        "colab": {}
      },
      "source": [
        "  # useful for getting number of output classes\n",
        "folders = glob('/content/drive/My Drive/Datasets/train/*')"
      ],
      "execution_count": 113,
      "outputs": []
    },
    {
      "cell_type": "code",
      "metadata": {
        "id": "frK3u1857tA6",
        "colab_type": "code",
        "colab": {
          "base_uri": "https://localhost:8080/",
          "height": 84
        },
        "outputId": "be5bbc21-2cde-465e-9efb-b692d81effaf"
      },
      "source": [
        "folders"
      ],
      "execution_count": 114,
      "outputs": [
        {
          "output_type": "execute_result",
          "data": {
            "text/plain": [
              "['/content/drive/My Drive/Datasets/train/diseased cotton plant',\n",
              " '/content/drive/My Drive/Datasets/train/fresh cotton plant',\n",
              " '/content/drive/My Drive/Datasets/train/diseased cotton leaf',\n",
              " '/content/drive/My Drive/Datasets/train/fresh cotton leaf']"
            ]
          },
          "metadata": {
            "tags": []
          },
          "execution_count": 114
        }
      ]
    },
    {
      "cell_type": "code",
      "metadata": {
        "id": "HS2juXmgvlgi",
        "colab_type": "code",
        "colab": {}
      },
      "source": [
        "# our layers - you can add more if you want\n",
        "x = Flatten()(inception.output)"
      ],
      "execution_count": 115,
      "outputs": []
    },
    {
      "cell_type": "code",
      "metadata": {
        "id": "WpIwI8Lhvlgy",
        "colab_type": "code",
        "colab": {}
      },
      "source": [
        "prediction = Dense(4, activation='softmax')(x)\n",
        "\n",
        "# create a model object\n",
        "model = Model(inputs=inception.input, outputs=prediction)"
      ],
      "execution_count": 116,
      "outputs": []
    },
    {
      "cell_type": "code",
      "metadata": {
        "id": "RrzdmXUYvlg5",
        "colab_type": "code",
        "colab": {
          "base_uri": "https://localhost:8080/",
          "height": 1000
        },
        "outputId": "6daf9479-b4d7-4ba5-8b36-2b9d3f8e31f7"
      },
      "source": [
        "\n",
        "# view the structure of the model\n",
        "model.summary()\n"
      ],
      "execution_count": 117,
      "outputs": [
        {
          "output_type": "stream",
          "text": [
            "Model: \"functional_14\"\n",
            "__________________________________________________________________________________________________\n",
            "Layer (type)                    Output Shape         Param #     Connected to                     \n",
            "==================================================================================================\n",
            "input_8 (InputLayer)            [(None, 224, 224, 3) 0                                            \n",
            "__________________________________________________________________________________________________\n",
            "conv2d_658 (Conv2D)             (None, 111, 111, 32) 864         input_8[0][0]                    \n",
            "__________________________________________________________________________________________________\n",
            "batch_normalization_658 (BatchN (None, 111, 111, 32) 96          conv2d_658[0][0]                 \n",
            "__________________________________________________________________________________________________\n",
            "activation_658 (Activation)     (None, 111, 111, 32) 0           batch_normalization_658[0][0]    \n",
            "__________________________________________________________________________________________________\n",
            "conv2d_659 (Conv2D)             (None, 109, 109, 32) 9216        activation_658[0][0]             \n",
            "__________________________________________________________________________________________________\n",
            "batch_normalization_659 (BatchN (None, 109, 109, 32) 96          conv2d_659[0][0]                 \n",
            "__________________________________________________________________________________________________\n",
            "activation_659 (Activation)     (None, 109, 109, 32) 0           batch_normalization_659[0][0]    \n",
            "__________________________________________________________________________________________________\n",
            "conv2d_660 (Conv2D)             (None, 109, 109, 64) 18432       activation_659[0][0]             \n",
            "__________________________________________________________________________________________________\n",
            "batch_normalization_660 (BatchN (None, 109, 109, 64) 192         conv2d_660[0][0]                 \n",
            "__________________________________________________________________________________________________\n",
            "activation_660 (Activation)     (None, 109, 109, 64) 0           batch_normalization_660[0][0]    \n",
            "__________________________________________________________________________________________________\n",
            "max_pooling2d_28 (MaxPooling2D) (None, 54, 54, 64)   0           activation_660[0][0]             \n",
            "__________________________________________________________________________________________________\n",
            "conv2d_661 (Conv2D)             (None, 54, 54, 80)   5120        max_pooling2d_28[0][0]           \n",
            "__________________________________________________________________________________________________\n",
            "batch_normalization_661 (BatchN (None, 54, 54, 80)   240         conv2d_661[0][0]                 \n",
            "__________________________________________________________________________________________________\n",
            "activation_661 (Activation)     (None, 54, 54, 80)   0           batch_normalization_661[0][0]    \n",
            "__________________________________________________________________________________________________\n",
            "conv2d_662 (Conv2D)             (None, 52, 52, 192)  138240      activation_661[0][0]             \n",
            "__________________________________________________________________________________________________\n",
            "batch_normalization_662 (BatchN (None, 52, 52, 192)  576         conv2d_662[0][0]                 \n",
            "__________________________________________________________________________________________________\n",
            "activation_662 (Activation)     (None, 52, 52, 192)  0           batch_normalization_662[0][0]    \n",
            "__________________________________________________________________________________________________\n",
            "max_pooling2d_29 (MaxPooling2D) (None, 25, 25, 192)  0           activation_662[0][0]             \n",
            "__________________________________________________________________________________________________\n",
            "conv2d_666 (Conv2D)             (None, 25, 25, 64)   12288       max_pooling2d_29[0][0]           \n",
            "__________________________________________________________________________________________________\n",
            "batch_normalization_666 (BatchN (None, 25, 25, 64)   192         conv2d_666[0][0]                 \n",
            "__________________________________________________________________________________________________\n",
            "activation_666 (Activation)     (None, 25, 25, 64)   0           batch_normalization_666[0][0]    \n",
            "__________________________________________________________________________________________________\n",
            "conv2d_664 (Conv2D)             (None, 25, 25, 48)   9216        max_pooling2d_29[0][0]           \n",
            "__________________________________________________________________________________________________\n",
            "conv2d_667 (Conv2D)             (None, 25, 25, 96)   55296       activation_666[0][0]             \n",
            "__________________________________________________________________________________________________\n",
            "batch_normalization_664 (BatchN (None, 25, 25, 48)   144         conv2d_664[0][0]                 \n",
            "__________________________________________________________________________________________________\n",
            "batch_normalization_667 (BatchN (None, 25, 25, 96)   288         conv2d_667[0][0]                 \n",
            "__________________________________________________________________________________________________\n",
            "activation_664 (Activation)     (None, 25, 25, 48)   0           batch_normalization_664[0][0]    \n",
            "__________________________________________________________________________________________________\n",
            "activation_667 (Activation)     (None, 25, 25, 96)   0           batch_normalization_667[0][0]    \n",
            "__________________________________________________________________________________________________\n",
            "average_pooling2d_63 (AveragePo (None, 25, 25, 192)  0           max_pooling2d_29[0][0]           \n",
            "__________________________________________________________________________________________________\n",
            "conv2d_663 (Conv2D)             (None, 25, 25, 64)   12288       max_pooling2d_29[0][0]           \n",
            "__________________________________________________________________________________________________\n",
            "conv2d_665 (Conv2D)             (None, 25, 25, 64)   76800       activation_664[0][0]             \n",
            "__________________________________________________________________________________________________\n",
            "conv2d_668 (Conv2D)             (None, 25, 25, 96)   82944       activation_667[0][0]             \n",
            "__________________________________________________________________________________________________\n",
            "conv2d_669 (Conv2D)             (None, 25, 25, 32)   6144        average_pooling2d_63[0][0]       \n",
            "__________________________________________________________________________________________________\n",
            "batch_normalization_663 (BatchN (None, 25, 25, 64)   192         conv2d_663[0][0]                 \n",
            "__________________________________________________________________________________________________\n",
            "batch_normalization_665 (BatchN (None, 25, 25, 64)   192         conv2d_665[0][0]                 \n",
            "__________________________________________________________________________________________________\n",
            "batch_normalization_668 (BatchN (None, 25, 25, 96)   288         conv2d_668[0][0]                 \n",
            "__________________________________________________________________________________________________\n",
            "batch_normalization_669 (BatchN (None, 25, 25, 32)   96          conv2d_669[0][0]                 \n",
            "__________________________________________________________________________________________________\n",
            "activation_663 (Activation)     (None, 25, 25, 64)   0           batch_normalization_663[0][0]    \n",
            "__________________________________________________________________________________________________\n",
            "activation_665 (Activation)     (None, 25, 25, 64)   0           batch_normalization_665[0][0]    \n",
            "__________________________________________________________________________________________________\n",
            "activation_668 (Activation)     (None, 25, 25, 96)   0           batch_normalization_668[0][0]    \n",
            "__________________________________________________________________________________________________\n",
            "activation_669 (Activation)     (None, 25, 25, 32)   0           batch_normalization_669[0][0]    \n",
            "__________________________________________________________________________________________________\n",
            "mixed0 (Concatenate)            (None, 25, 25, 256)  0           activation_663[0][0]             \n",
            "                                                                 activation_665[0][0]             \n",
            "                                                                 activation_668[0][0]             \n",
            "                                                                 activation_669[0][0]             \n",
            "__________________________________________________________________________________________________\n",
            "conv2d_673 (Conv2D)             (None, 25, 25, 64)   16384       mixed0[0][0]                     \n",
            "__________________________________________________________________________________________________\n",
            "batch_normalization_673 (BatchN (None, 25, 25, 64)   192         conv2d_673[0][0]                 \n",
            "__________________________________________________________________________________________________\n",
            "activation_673 (Activation)     (None, 25, 25, 64)   0           batch_normalization_673[0][0]    \n",
            "__________________________________________________________________________________________________\n",
            "conv2d_671 (Conv2D)             (None, 25, 25, 48)   12288       mixed0[0][0]                     \n",
            "__________________________________________________________________________________________________\n",
            "conv2d_674 (Conv2D)             (None, 25, 25, 96)   55296       activation_673[0][0]             \n",
            "__________________________________________________________________________________________________\n",
            "batch_normalization_671 (BatchN (None, 25, 25, 48)   144         conv2d_671[0][0]                 \n",
            "__________________________________________________________________________________________________\n",
            "batch_normalization_674 (BatchN (None, 25, 25, 96)   288         conv2d_674[0][0]                 \n",
            "__________________________________________________________________________________________________\n",
            "activation_671 (Activation)     (None, 25, 25, 48)   0           batch_normalization_671[0][0]    \n",
            "__________________________________________________________________________________________________\n",
            "activation_674 (Activation)     (None, 25, 25, 96)   0           batch_normalization_674[0][0]    \n",
            "__________________________________________________________________________________________________\n",
            "average_pooling2d_64 (AveragePo (None, 25, 25, 256)  0           mixed0[0][0]                     \n",
            "__________________________________________________________________________________________________\n",
            "conv2d_670 (Conv2D)             (None, 25, 25, 64)   16384       mixed0[0][0]                     \n",
            "__________________________________________________________________________________________________\n",
            "conv2d_672 (Conv2D)             (None, 25, 25, 64)   76800       activation_671[0][0]             \n",
            "__________________________________________________________________________________________________\n",
            "conv2d_675 (Conv2D)             (None, 25, 25, 96)   82944       activation_674[0][0]             \n",
            "__________________________________________________________________________________________________\n",
            "conv2d_676 (Conv2D)             (None, 25, 25, 64)   16384       average_pooling2d_64[0][0]       \n",
            "__________________________________________________________________________________________________\n",
            "batch_normalization_670 (BatchN (None, 25, 25, 64)   192         conv2d_670[0][0]                 \n",
            "__________________________________________________________________________________________________\n",
            "batch_normalization_672 (BatchN (None, 25, 25, 64)   192         conv2d_672[0][0]                 \n",
            "__________________________________________________________________________________________________\n",
            "batch_normalization_675 (BatchN (None, 25, 25, 96)   288         conv2d_675[0][0]                 \n",
            "__________________________________________________________________________________________________\n",
            "batch_normalization_676 (BatchN (None, 25, 25, 64)   192         conv2d_676[0][0]                 \n",
            "__________________________________________________________________________________________________\n",
            "activation_670 (Activation)     (None, 25, 25, 64)   0           batch_normalization_670[0][0]    \n",
            "__________________________________________________________________________________________________\n",
            "activation_672 (Activation)     (None, 25, 25, 64)   0           batch_normalization_672[0][0]    \n",
            "__________________________________________________________________________________________________\n",
            "activation_675 (Activation)     (None, 25, 25, 96)   0           batch_normalization_675[0][0]    \n",
            "__________________________________________________________________________________________________\n",
            "activation_676 (Activation)     (None, 25, 25, 64)   0           batch_normalization_676[0][0]    \n",
            "__________________________________________________________________________________________________\n",
            "mixed1 (Concatenate)            (None, 25, 25, 288)  0           activation_670[0][0]             \n",
            "                                                                 activation_672[0][0]             \n",
            "                                                                 activation_675[0][0]             \n",
            "                                                                 activation_676[0][0]             \n",
            "__________________________________________________________________________________________________\n",
            "conv2d_680 (Conv2D)             (None, 25, 25, 64)   18432       mixed1[0][0]                     \n",
            "__________________________________________________________________________________________________\n",
            "batch_normalization_680 (BatchN (None, 25, 25, 64)   192         conv2d_680[0][0]                 \n",
            "__________________________________________________________________________________________________\n",
            "activation_680 (Activation)     (None, 25, 25, 64)   0           batch_normalization_680[0][0]    \n",
            "__________________________________________________________________________________________________\n",
            "conv2d_678 (Conv2D)             (None, 25, 25, 48)   13824       mixed1[0][0]                     \n",
            "__________________________________________________________________________________________________\n",
            "conv2d_681 (Conv2D)             (None, 25, 25, 96)   55296       activation_680[0][0]             \n",
            "__________________________________________________________________________________________________\n",
            "batch_normalization_678 (BatchN (None, 25, 25, 48)   144         conv2d_678[0][0]                 \n",
            "__________________________________________________________________________________________________\n",
            "batch_normalization_681 (BatchN (None, 25, 25, 96)   288         conv2d_681[0][0]                 \n",
            "__________________________________________________________________________________________________\n",
            "activation_678 (Activation)     (None, 25, 25, 48)   0           batch_normalization_678[0][0]    \n",
            "__________________________________________________________________________________________________\n",
            "activation_681 (Activation)     (None, 25, 25, 96)   0           batch_normalization_681[0][0]    \n",
            "__________________________________________________________________________________________________\n",
            "average_pooling2d_65 (AveragePo (None, 25, 25, 288)  0           mixed1[0][0]                     \n",
            "__________________________________________________________________________________________________\n",
            "conv2d_677 (Conv2D)             (None, 25, 25, 64)   18432       mixed1[0][0]                     \n",
            "__________________________________________________________________________________________________\n",
            "conv2d_679 (Conv2D)             (None, 25, 25, 64)   76800       activation_678[0][0]             \n",
            "__________________________________________________________________________________________________\n",
            "conv2d_682 (Conv2D)             (None, 25, 25, 96)   82944       activation_681[0][0]             \n",
            "__________________________________________________________________________________________________\n",
            "conv2d_683 (Conv2D)             (None, 25, 25, 64)   18432       average_pooling2d_65[0][0]       \n",
            "__________________________________________________________________________________________________\n",
            "batch_normalization_677 (BatchN (None, 25, 25, 64)   192         conv2d_677[0][0]                 \n",
            "__________________________________________________________________________________________________\n",
            "batch_normalization_679 (BatchN (None, 25, 25, 64)   192         conv2d_679[0][0]                 \n",
            "__________________________________________________________________________________________________\n",
            "batch_normalization_682 (BatchN (None, 25, 25, 96)   288         conv2d_682[0][0]                 \n",
            "__________________________________________________________________________________________________\n",
            "batch_normalization_683 (BatchN (None, 25, 25, 64)   192         conv2d_683[0][0]                 \n",
            "__________________________________________________________________________________________________\n",
            "activation_677 (Activation)     (None, 25, 25, 64)   0           batch_normalization_677[0][0]    \n",
            "__________________________________________________________________________________________________\n",
            "activation_679 (Activation)     (None, 25, 25, 64)   0           batch_normalization_679[0][0]    \n",
            "__________________________________________________________________________________________________\n",
            "activation_682 (Activation)     (None, 25, 25, 96)   0           batch_normalization_682[0][0]    \n",
            "__________________________________________________________________________________________________\n",
            "activation_683 (Activation)     (None, 25, 25, 64)   0           batch_normalization_683[0][0]    \n",
            "__________________________________________________________________________________________________\n",
            "mixed2 (Concatenate)            (None, 25, 25, 288)  0           activation_677[0][0]             \n",
            "                                                                 activation_679[0][0]             \n",
            "                                                                 activation_682[0][0]             \n",
            "                                                                 activation_683[0][0]             \n",
            "__________________________________________________________________________________________________\n",
            "conv2d_685 (Conv2D)             (None, 25, 25, 64)   18432       mixed2[0][0]                     \n",
            "__________________________________________________________________________________________________\n",
            "batch_normalization_685 (BatchN (None, 25, 25, 64)   192         conv2d_685[0][0]                 \n",
            "__________________________________________________________________________________________________\n",
            "activation_685 (Activation)     (None, 25, 25, 64)   0           batch_normalization_685[0][0]    \n",
            "__________________________________________________________________________________________________\n",
            "conv2d_686 (Conv2D)             (None, 25, 25, 96)   55296       activation_685[0][0]             \n",
            "__________________________________________________________________________________________________\n",
            "batch_normalization_686 (BatchN (None, 25, 25, 96)   288         conv2d_686[0][0]                 \n",
            "__________________________________________________________________________________________________\n",
            "activation_686 (Activation)     (None, 25, 25, 96)   0           batch_normalization_686[0][0]    \n",
            "__________________________________________________________________________________________________\n",
            "conv2d_684 (Conv2D)             (None, 12, 12, 384)  995328      mixed2[0][0]                     \n",
            "__________________________________________________________________________________________________\n",
            "conv2d_687 (Conv2D)             (None, 12, 12, 96)   82944       activation_686[0][0]             \n",
            "__________________________________________________________________________________________________\n",
            "batch_normalization_684 (BatchN (None, 12, 12, 384)  1152        conv2d_684[0][0]                 \n",
            "__________________________________________________________________________________________________\n",
            "batch_normalization_687 (BatchN (None, 12, 12, 96)   288         conv2d_687[0][0]                 \n",
            "__________________________________________________________________________________________________\n",
            "activation_684 (Activation)     (None, 12, 12, 384)  0           batch_normalization_684[0][0]    \n",
            "__________________________________________________________________________________________________\n",
            "activation_687 (Activation)     (None, 12, 12, 96)   0           batch_normalization_687[0][0]    \n",
            "__________________________________________________________________________________________________\n",
            "max_pooling2d_30 (MaxPooling2D) (None, 12, 12, 288)  0           mixed2[0][0]                     \n",
            "__________________________________________________________________________________________________\n",
            "mixed3 (Concatenate)            (None, 12, 12, 768)  0           activation_684[0][0]             \n",
            "                                                                 activation_687[0][0]             \n",
            "                                                                 max_pooling2d_30[0][0]           \n",
            "__________________________________________________________________________________________________\n",
            "conv2d_692 (Conv2D)             (None, 12, 12, 128)  98304       mixed3[0][0]                     \n",
            "__________________________________________________________________________________________________\n",
            "batch_normalization_692 (BatchN (None, 12, 12, 128)  384         conv2d_692[0][0]                 \n",
            "__________________________________________________________________________________________________\n",
            "activation_692 (Activation)     (None, 12, 12, 128)  0           batch_normalization_692[0][0]    \n",
            "__________________________________________________________________________________________________\n",
            "conv2d_693 (Conv2D)             (None, 12, 12, 128)  114688      activation_692[0][0]             \n",
            "__________________________________________________________________________________________________\n",
            "batch_normalization_693 (BatchN (None, 12, 12, 128)  384         conv2d_693[0][0]                 \n",
            "__________________________________________________________________________________________________\n",
            "activation_693 (Activation)     (None, 12, 12, 128)  0           batch_normalization_693[0][0]    \n",
            "__________________________________________________________________________________________________\n",
            "conv2d_689 (Conv2D)             (None, 12, 12, 128)  98304       mixed3[0][0]                     \n",
            "__________________________________________________________________________________________________\n",
            "conv2d_694 (Conv2D)             (None, 12, 12, 128)  114688      activation_693[0][0]             \n",
            "__________________________________________________________________________________________________\n",
            "batch_normalization_689 (BatchN (None, 12, 12, 128)  384         conv2d_689[0][0]                 \n",
            "__________________________________________________________________________________________________\n",
            "batch_normalization_694 (BatchN (None, 12, 12, 128)  384         conv2d_694[0][0]                 \n",
            "__________________________________________________________________________________________________\n",
            "activation_689 (Activation)     (None, 12, 12, 128)  0           batch_normalization_689[0][0]    \n",
            "__________________________________________________________________________________________________\n",
            "activation_694 (Activation)     (None, 12, 12, 128)  0           batch_normalization_694[0][0]    \n",
            "__________________________________________________________________________________________________\n",
            "conv2d_690 (Conv2D)             (None, 12, 12, 128)  114688      activation_689[0][0]             \n",
            "__________________________________________________________________________________________________\n",
            "conv2d_695 (Conv2D)             (None, 12, 12, 128)  114688      activation_694[0][0]             \n",
            "__________________________________________________________________________________________________\n",
            "batch_normalization_690 (BatchN (None, 12, 12, 128)  384         conv2d_690[0][0]                 \n",
            "__________________________________________________________________________________________________\n",
            "batch_normalization_695 (BatchN (None, 12, 12, 128)  384         conv2d_695[0][0]                 \n",
            "__________________________________________________________________________________________________\n",
            "activation_690 (Activation)     (None, 12, 12, 128)  0           batch_normalization_690[0][0]    \n",
            "__________________________________________________________________________________________________\n",
            "activation_695 (Activation)     (None, 12, 12, 128)  0           batch_normalization_695[0][0]    \n",
            "__________________________________________________________________________________________________\n",
            "average_pooling2d_66 (AveragePo (None, 12, 12, 768)  0           mixed3[0][0]                     \n",
            "__________________________________________________________________________________________________\n",
            "conv2d_688 (Conv2D)             (None, 12, 12, 192)  147456      mixed3[0][0]                     \n",
            "__________________________________________________________________________________________________\n",
            "conv2d_691 (Conv2D)             (None, 12, 12, 192)  172032      activation_690[0][0]             \n",
            "__________________________________________________________________________________________________\n",
            "conv2d_696 (Conv2D)             (None, 12, 12, 192)  172032      activation_695[0][0]             \n",
            "__________________________________________________________________________________________________\n",
            "conv2d_697 (Conv2D)             (None, 12, 12, 192)  147456      average_pooling2d_66[0][0]       \n",
            "__________________________________________________________________________________________________\n",
            "batch_normalization_688 (BatchN (None, 12, 12, 192)  576         conv2d_688[0][0]                 \n",
            "__________________________________________________________________________________________________\n",
            "batch_normalization_691 (BatchN (None, 12, 12, 192)  576         conv2d_691[0][0]                 \n",
            "__________________________________________________________________________________________________\n",
            "batch_normalization_696 (BatchN (None, 12, 12, 192)  576         conv2d_696[0][0]                 \n",
            "__________________________________________________________________________________________________\n",
            "batch_normalization_697 (BatchN (None, 12, 12, 192)  576         conv2d_697[0][0]                 \n",
            "__________________________________________________________________________________________________\n",
            "activation_688 (Activation)     (None, 12, 12, 192)  0           batch_normalization_688[0][0]    \n",
            "__________________________________________________________________________________________________\n",
            "activation_691 (Activation)     (None, 12, 12, 192)  0           batch_normalization_691[0][0]    \n",
            "__________________________________________________________________________________________________\n",
            "activation_696 (Activation)     (None, 12, 12, 192)  0           batch_normalization_696[0][0]    \n",
            "__________________________________________________________________________________________________\n",
            "activation_697 (Activation)     (None, 12, 12, 192)  0           batch_normalization_697[0][0]    \n",
            "__________________________________________________________________________________________________\n",
            "mixed4 (Concatenate)            (None, 12, 12, 768)  0           activation_688[0][0]             \n",
            "                                                                 activation_691[0][0]             \n",
            "                                                                 activation_696[0][0]             \n",
            "                                                                 activation_697[0][0]             \n",
            "__________________________________________________________________________________________________\n",
            "conv2d_702 (Conv2D)             (None, 12, 12, 160)  122880      mixed4[0][0]                     \n",
            "__________________________________________________________________________________________________\n",
            "batch_normalization_702 (BatchN (None, 12, 12, 160)  480         conv2d_702[0][0]                 \n",
            "__________________________________________________________________________________________________\n",
            "activation_702 (Activation)     (None, 12, 12, 160)  0           batch_normalization_702[0][0]    \n",
            "__________________________________________________________________________________________________\n",
            "conv2d_703 (Conv2D)             (None, 12, 12, 160)  179200      activation_702[0][0]             \n",
            "__________________________________________________________________________________________________\n",
            "batch_normalization_703 (BatchN (None, 12, 12, 160)  480         conv2d_703[0][0]                 \n",
            "__________________________________________________________________________________________________\n",
            "activation_703 (Activation)     (None, 12, 12, 160)  0           batch_normalization_703[0][0]    \n",
            "__________________________________________________________________________________________________\n",
            "conv2d_699 (Conv2D)             (None, 12, 12, 160)  122880      mixed4[0][0]                     \n",
            "__________________________________________________________________________________________________\n",
            "conv2d_704 (Conv2D)             (None, 12, 12, 160)  179200      activation_703[0][0]             \n",
            "__________________________________________________________________________________________________\n",
            "batch_normalization_699 (BatchN (None, 12, 12, 160)  480         conv2d_699[0][0]                 \n",
            "__________________________________________________________________________________________________\n",
            "batch_normalization_704 (BatchN (None, 12, 12, 160)  480         conv2d_704[0][0]                 \n",
            "__________________________________________________________________________________________________\n",
            "activation_699 (Activation)     (None, 12, 12, 160)  0           batch_normalization_699[0][0]    \n",
            "__________________________________________________________________________________________________\n",
            "activation_704 (Activation)     (None, 12, 12, 160)  0           batch_normalization_704[0][0]    \n",
            "__________________________________________________________________________________________________\n",
            "conv2d_700 (Conv2D)             (None, 12, 12, 160)  179200      activation_699[0][0]             \n",
            "__________________________________________________________________________________________________\n",
            "conv2d_705 (Conv2D)             (None, 12, 12, 160)  179200      activation_704[0][0]             \n",
            "__________________________________________________________________________________________________\n",
            "batch_normalization_700 (BatchN (None, 12, 12, 160)  480         conv2d_700[0][0]                 \n",
            "__________________________________________________________________________________________________\n",
            "batch_normalization_705 (BatchN (None, 12, 12, 160)  480         conv2d_705[0][0]                 \n",
            "__________________________________________________________________________________________________\n",
            "activation_700 (Activation)     (None, 12, 12, 160)  0           batch_normalization_700[0][0]    \n",
            "__________________________________________________________________________________________________\n",
            "activation_705 (Activation)     (None, 12, 12, 160)  0           batch_normalization_705[0][0]    \n",
            "__________________________________________________________________________________________________\n",
            "average_pooling2d_67 (AveragePo (None, 12, 12, 768)  0           mixed4[0][0]                     \n",
            "__________________________________________________________________________________________________\n",
            "conv2d_698 (Conv2D)             (None, 12, 12, 192)  147456      mixed4[0][0]                     \n",
            "__________________________________________________________________________________________________\n",
            "conv2d_701 (Conv2D)             (None, 12, 12, 192)  215040      activation_700[0][0]             \n",
            "__________________________________________________________________________________________________\n",
            "conv2d_706 (Conv2D)             (None, 12, 12, 192)  215040      activation_705[0][0]             \n",
            "__________________________________________________________________________________________________\n",
            "conv2d_707 (Conv2D)             (None, 12, 12, 192)  147456      average_pooling2d_67[0][0]       \n",
            "__________________________________________________________________________________________________\n",
            "batch_normalization_698 (BatchN (None, 12, 12, 192)  576         conv2d_698[0][0]                 \n",
            "__________________________________________________________________________________________________\n",
            "batch_normalization_701 (BatchN (None, 12, 12, 192)  576         conv2d_701[0][0]                 \n",
            "__________________________________________________________________________________________________\n",
            "batch_normalization_706 (BatchN (None, 12, 12, 192)  576         conv2d_706[0][0]                 \n",
            "__________________________________________________________________________________________________\n",
            "batch_normalization_707 (BatchN (None, 12, 12, 192)  576         conv2d_707[0][0]                 \n",
            "__________________________________________________________________________________________________\n",
            "activation_698 (Activation)     (None, 12, 12, 192)  0           batch_normalization_698[0][0]    \n",
            "__________________________________________________________________________________________________\n",
            "activation_701 (Activation)     (None, 12, 12, 192)  0           batch_normalization_701[0][0]    \n",
            "__________________________________________________________________________________________________\n",
            "activation_706 (Activation)     (None, 12, 12, 192)  0           batch_normalization_706[0][0]    \n",
            "__________________________________________________________________________________________________\n",
            "activation_707 (Activation)     (None, 12, 12, 192)  0           batch_normalization_707[0][0]    \n",
            "__________________________________________________________________________________________________\n",
            "mixed5 (Concatenate)            (None, 12, 12, 768)  0           activation_698[0][0]             \n",
            "                                                                 activation_701[0][0]             \n",
            "                                                                 activation_706[0][0]             \n",
            "                                                                 activation_707[0][0]             \n",
            "__________________________________________________________________________________________________\n",
            "conv2d_712 (Conv2D)             (None, 12, 12, 160)  122880      mixed5[0][0]                     \n",
            "__________________________________________________________________________________________________\n",
            "batch_normalization_712 (BatchN (None, 12, 12, 160)  480         conv2d_712[0][0]                 \n",
            "__________________________________________________________________________________________________\n",
            "activation_712 (Activation)     (None, 12, 12, 160)  0           batch_normalization_712[0][0]    \n",
            "__________________________________________________________________________________________________\n",
            "conv2d_713 (Conv2D)             (None, 12, 12, 160)  179200      activation_712[0][0]             \n",
            "__________________________________________________________________________________________________\n",
            "batch_normalization_713 (BatchN (None, 12, 12, 160)  480         conv2d_713[0][0]                 \n",
            "__________________________________________________________________________________________________\n",
            "activation_713 (Activation)     (None, 12, 12, 160)  0           batch_normalization_713[0][0]    \n",
            "__________________________________________________________________________________________________\n",
            "conv2d_709 (Conv2D)             (None, 12, 12, 160)  122880      mixed5[0][0]                     \n",
            "__________________________________________________________________________________________________\n",
            "conv2d_714 (Conv2D)             (None, 12, 12, 160)  179200      activation_713[0][0]             \n",
            "__________________________________________________________________________________________________\n",
            "batch_normalization_709 (BatchN (None, 12, 12, 160)  480         conv2d_709[0][0]                 \n",
            "__________________________________________________________________________________________________\n",
            "batch_normalization_714 (BatchN (None, 12, 12, 160)  480         conv2d_714[0][0]                 \n",
            "__________________________________________________________________________________________________\n",
            "activation_709 (Activation)     (None, 12, 12, 160)  0           batch_normalization_709[0][0]    \n",
            "__________________________________________________________________________________________________\n",
            "activation_714 (Activation)     (None, 12, 12, 160)  0           batch_normalization_714[0][0]    \n",
            "__________________________________________________________________________________________________\n",
            "conv2d_710 (Conv2D)             (None, 12, 12, 160)  179200      activation_709[0][0]             \n",
            "__________________________________________________________________________________________________\n",
            "conv2d_715 (Conv2D)             (None, 12, 12, 160)  179200      activation_714[0][0]             \n",
            "__________________________________________________________________________________________________\n",
            "batch_normalization_710 (BatchN (None, 12, 12, 160)  480         conv2d_710[0][0]                 \n",
            "__________________________________________________________________________________________________\n",
            "batch_normalization_715 (BatchN (None, 12, 12, 160)  480         conv2d_715[0][0]                 \n",
            "__________________________________________________________________________________________________\n",
            "activation_710 (Activation)     (None, 12, 12, 160)  0           batch_normalization_710[0][0]    \n",
            "__________________________________________________________________________________________________\n",
            "activation_715 (Activation)     (None, 12, 12, 160)  0           batch_normalization_715[0][0]    \n",
            "__________________________________________________________________________________________________\n",
            "average_pooling2d_68 (AveragePo (None, 12, 12, 768)  0           mixed5[0][0]                     \n",
            "__________________________________________________________________________________________________\n",
            "conv2d_708 (Conv2D)             (None, 12, 12, 192)  147456      mixed5[0][0]                     \n",
            "__________________________________________________________________________________________________\n",
            "conv2d_711 (Conv2D)             (None, 12, 12, 192)  215040      activation_710[0][0]             \n",
            "__________________________________________________________________________________________________\n",
            "conv2d_716 (Conv2D)             (None, 12, 12, 192)  215040      activation_715[0][0]             \n",
            "__________________________________________________________________________________________________\n",
            "conv2d_717 (Conv2D)             (None, 12, 12, 192)  147456      average_pooling2d_68[0][0]       \n",
            "__________________________________________________________________________________________________\n",
            "batch_normalization_708 (BatchN (None, 12, 12, 192)  576         conv2d_708[0][0]                 \n",
            "__________________________________________________________________________________________________\n",
            "batch_normalization_711 (BatchN (None, 12, 12, 192)  576         conv2d_711[0][0]                 \n",
            "__________________________________________________________________________________________________\n",
            "batch_normalization_716 (BatchN (None, 12, 12, 192)  576         conv2d_716[0][0]                 \n",
            "__________________________________________________________________________________________________\n",
            "batch_normalization_717 (BatchN (None, 12, 12, 192)  576         conv2d_717[0][0]                 \n",
            "__________________________________________________________________________________________________\n",
            "activation_708 (Activation)     (None, 12, 12, 192)  0           batch_normalization_708[0][0]    \n",
            "__________________________________________________________________________________________________\n",
            "activation_711 (Activation)     (None, 12, 12, 192)  0           batch_normalization_711[0][0]    \n",
            "__________________________________________________________________________________________________\n",
            "activation_716 (Activation)     (None, 12, 12, 192)  0           batch_normalization_716[0][0]    \n",
            "__________________________________________________________________________________________________\n",
            "activation_717 (Activation)     (None, 12, 12, 192)  0           batch_normalization_717[0][0]    \n",
            "__________________________________________________________________________________________________\n",
            "mixed6 (Concatenate)            (None, 12, 12, 768)  0           activation_708[0][0]             \n",
            "                                                                 activation_711[0][0]             \n",
            "                                                                 activation_716[0][0]             \n",
            "                                                                 activation_717[0][0]             \n",
            "__________________________________________________________________________________________________\n",
            "conv2d_722 (Conv2D)             (None, 12, 12, 192)  147456      mixed6[0][0]                     \n",
            "__________________________________________________________________________________________________\n",
            "batch_normalization_722 (BatchN (None, 12, 12, 192)  576         conv2d_722[0][0]                 \n",
            "__________________________________________________________________________________________________\n",
            "activation_722 (Activation)     (None, 12, 12, 192)  0           batch_normalization_722[0][0]    \n",
            "__________________________________________________________________________________________________\n",
            "conv2d_723 (Conv2D)             (None, 12, 12, 192)  258048      activation_722[0][0]             \n",
            "__________________________________________________________________________________________________\n",
            "batch_normalization_723 (BatchN (None, 12, 12, 192)  576         conv2d_723[0][0]                 \n",
            "__________________________________________________________________________________________________\n",
            "activation_723 (Activation)     (None, 12, 12, 192)  0           batch_normalization_723[0][0]    \n",
            "__________________________________________________________________________________________________\n",
            "conv2d_719 (Conv2D)             (None, 12, 12, 192)  147456      mixed6[0][0]                     \n",
            "__________________________________________________________________________________________________\n",
            "conv2d_724 (Conv2D)             (None, 12, 12, 192)  258048      activation_723[0][0]             \n",
            "__________________________________________________________________________________________________\n",
            "batch_normalization_719 (BatchN (None, 12, 12, 192)  576         conv2d_719[0][0]                 \n",
            "__________________________________________________________________________________________________\n",
            "batch_normalization_724 (BatchN (None, 12, 12, 192)  576         conv2d_724[0][0]                 \n",
            "__________________________________________________________________________________________________\n",
            "activation_719 (Activation)     (None, 12, 12, 192)  0           batch_normalization_719[0][0]    \n",
            "__________________________________________________________________________________________________\n",
            "activation_724 (Activation)     (None, 12, 12, 192)  0           batch_normalization_724[0][0]    \n",
            "__________________________________________________________________________________________________\n",
            "conv2d_720 (Conv2D)             (None, 12, 12, 192)  258048      activation_719[0][0]             \n",
            "__________________________________________________________________________________________________\n",
            "conv2d_725 (Conv2D)             (None, 12, 12, 192)  258048      activation_724[0][0]             \n",
            "__________________________________________________________________________________________________\n",
            "batch_normalization_720 (BatchN (None, 12, 12, 192)  576         conv2d_720[0][0]                 \n",
            "__________________________________________________________________________________________________\n",
            "batch_normalization_725 (BatchN (None, 12, 12, 192)  576         conv2d_725[0][0]                 \n",
            "__________________________________________________________________________________________________\n",
            "activation_720 (Activation)     (None, 12, 12, 192)  0           batch_normalization_720[0][0]    \n",
            "__________________________________________________________________________________________________\n",
            "activation_725 (Activation)     (None, 12, 12, 192)  0           batch_normalization_725[0][0]    \n",
            "__________________________________________________________________________________________________\n",
            "average_pooling2d_69 (AveragePo (None, 12, 12, 768)  0           mixed6[0][0]                     \n",
            "__________________________________________________________________________________________________\n",
            "conv2d_718 (Conv2D)             (None, 12, 12, 192)  147456      mixed6[0][0]                     \n",
            "__________________________________________________________________________________________________\n",
            "conv2d_721 (Conv2D)             (None, 12, 12, 192)  258048      activation_720[0][0]             \n",
            "__________________________________________________________________________________________________\n",
            "conv2d_726 (Conv2D)             (None, 12, 12, 192)  258048      activation_725[0][0]             \n",
            "__________________________________________________________________________________________________\n",
            "conv2d_727 (Conv2D)             (None, 12, 12, 192)  147456      average_pooling2d_69[0][0]       \n",
            "__________________________________________________________________________________________________\n",
            "batch_normalization_718 (BatchN (None, 12, 12, 192)  576         conv2d_718[0][0]                 \n",
            "__________________________________________________________________________________________________\n",
            "batch_normalization_721 (BatchN (None, 12, 12, 192)  576         conv2d_721[0][0]                 \n",
            "__________________________________________________________________________________________________\n",
            "batch_normalization_726 (BatchN (None, 12, 12, 192)  576         conv2d_726[0][0]                 \n",
            "__________________________________________________________________________________________________\n",
            "batch_normalization_727 (BatchN (None, 12, 12, 192)  576         conv2d_727[0][0]                 \n",
            "__________________________________________________________________________________________________\n",
            "activation_718 (Activation)     (None, 12, 12, 192)  0           batch_normalization_718[0][0]    \n",
            "__________________________________________________________________________________________________\n",
            "activation_721 (Activation)     (None, 12, 12, 192)  0           batch_normalization_721[0][0]    \n",
            "__________________________________________________________________________________________________\n",
            "activation_726 (Activation)     (None, 12, 12, 192)  0           batch_normalization_726[0][0]    \n",
            "__________________________________________________________________________________________________\n",
            "activation_727 (Activation)     (None, 12, 12, 192)  0           batch_normalization_727[0][0]    \n",
            "__________________________________________________________________________________________________\n",
            "mixed7 (Concatenate)            (None, 12, 12, 768)  0           activation_718[0][0]             \n",
            "                                                                 activation_721[0][0]             \n",
            "                                                                 activation_726[0][0]             \n",
            "                                                                 activation_727[0][0]             \n",
            "__________________________________________________________________________________________________\n",
            "conv2d_730 (Conv2D)             (None, 12, 12, 192)  147456      mixed7[0][0]                     \n",
            "__________________________________________________________________________________________________\n",
            "batch_normalization_730 (BatchN (None, 12, 12, 192)  576         conv2d_730[0][0]                 \n",
            "__________________________________________________________________________________________________\n",
            "activation_730 (Activation)     (None, 12, 12, 192)  0           batch_normalization_730[0][0]    \n",
            "__________________________________________________________________________________________________\n",
            "conv2d_731 (Conv2D)             (None, 12, 12, 192)  258048      activation_730[0][0]             \n",
            "__________________________________________________________________________________________________\n",
            "batch_normalization_731 (BatchN (None, 12, 12, 192)  576         conv2d_731[0][0]                 \n",
            "__________________________________________________________________________________________________\n",
            "activation_731 (Activation)     (None, 12, 12, 192)  0           batch_normalization_731[0][0]    \n",
            "__________________________________________________________________________________________________\n",
            "conv2d_728 (Conv2D)             (None, 12, 12, 192)  147456      mixed7[0][0]                     \n",
            "__________________________________________________________________________________________________\n",
            "conv2d_732 (Conv2D)             (None, 12, 12, 192)  258048      activation_731[0][0]             \n",
            "__________________________________________________________________________________________________\n",
            "batch_normalization_728 (BatchN (None, 12, 12, 192)  576         conv2d_728[0][0]                 \n",
            "__________________________________________________________________________________________________\n",
            "batch_normalization_732 (BatchN (None, 12, 12, 192)  576         conv2d_732[0][0]                 \n",
            "__________________________________________________________________________________________________\n",
            "activation_728 (Activation)     (None, 12, 12, 192)  0           batch_normalization_728[0][0]    \n",
            "__________________________________________________________________________________________________\n",
            "activation_732 (Activation)     (None, 12, 12, 192)  0           batch_normalization_732[0][0]    \n",
            "__________________________________________________________________________________________________\n",
            "conv2d_729 (Conv2D)             (None, 5, 5, 320)    552960      activation_728[0][0]             \n",
            "__________________________________________________________________________________________________\n",
            "conv2d_733 (Conv2D)             (None, 5, 5, 192)    331776      activation_732[0][0]             \n",
            "__________________________________________________________________________________________________\n",
            "batch_normalization_729 (BatchN (None, 5, 5, 320)    960         conv2d_729[0][0]                 \n",
            "__________________________________________________________________________________________________\n",
            "batch_normalization_733 (BatchN (None, 5, 5, 192)    576         conv2d_733[0][0]                 \n",
            "__________________________________________________________________________________________________\n",
            "activation_729 (Activation)     (None, 5, 5, 320)    0           batch_normalization_729[0][0]    \n",
            "__________________________________________________________________________________________________\n",
            "activation_733 (Activation)     (None, 5, 5, 192)    0           batch_normalization_733[0][0]    \n",
            "__________________________________________________________________________________________________\n",
            "max_pooling2d_31 (MaxPooling2D) (None, 5, 5, 768)    0           mixed7[0][0]                     \n",
            "__________________________________________________________________________________________________\n",
            "mixed8 (Concatenate)            (None, 5, 5, 1280)   0           activation_729[0][0]             \n",
            "                                                                 activation_733[0][0]             \n",
            "                                                                 max_pooling2d_31[0][0]           \n",
            "__________________________________________________________________________________________________\n",
            "conv2d_738 (Conv2D)             (None, 5, 5, 448)    573440      mixed8[0][0]                     \n",
            "__________________________________________________________________________________________________\n",
            "batch_normalization_738 (BatchN (None, 5, 5, 448)    1344        conv2d_738[0][0]                 \n",
            "__________________________________________________________________________________________________\n",
            "activation_738 (Activation)     (None, 5, 5, 448)    0           batch_normalization_738[0][0]    \n",
            "__________________________________________________________________________________________________\n",
            "conv2d_735 (Conv2D)             (None, 5, 5, 384)    491520      mixed8[0][0]                     \n",
            "__________________________________________________________________________________________________\n",
            "conv2d_739 (Conv2D)             (None, 5, 5, 384)    1548288     activation_738[0][0]             \n",
            "__________________________________________________________________________________________________\n",
            "batch_normalization_735 (BatchN (None, 5, 5, 384)    1152        conv2d_735[0][0]                 \n",
            "__________________________________________________________________________________________________\n",
            "batch_normalization_739 (BatchN (None, 5, 5, 384)    1152        conv2d_739[0][0]                 \n",
            "__________________________________________________________________________________________________\n",
            "activation_735 (Activation)     (None, 5, 5, 384)    0           batch_normalization_735[0][0]    \n",
            "__________________________________________________________________________________________________\n",
            "activation_739 (Activation)     (None, 5, 5, 384)    0           batch_normalization_739[0][0]    \n",
            "__________________________________________________________________________________________________\n",
            "conv2d_736 (Conv2D)             (None, 5, 5, 384)    442368      activation_735[0][0]             \n",
            "__________________________________________________________________________________________________\n",
            "conv2d_737 (Conv2D)             (None, 5, 5, 384)    442368      activation_735[0][0]             \n",
            "__________________________________________________________________________________________________\n",
            "conv2d_740 (Conv2D)             (None, 5, 5, 384)    442368      activation_739[0][0]             \n",
            "__________________________________________________________________________________________________\n",
            "conv2d_741 (Conv2D)             (None, 5, 5, 384)    442368      activation_739[0][0]             \n",
            "__________________________________________________________________________________________________\n",
            "average_pooling2d_70 (AveragePo (None, 5, 5, 1280)   0           mixed8[0][0]                     \n",
            "__________________________________________________________________________________________________\n",
            "conv2d_734 (Conv2D)             (None, 5, 5, 320)    409600      mixed8[0][0]                     \n",
            "__________________________________________________________________________________________________\n",
            "batch_normalization_736 (BatchN (None, 5, 5, 384)    1152        conv2d_736[0][0]                 \n",
            "__________________________________________________________________________________________________\n",
            "batch_normalization_737 (BatchN (None, 5, 5, 384)    1152        conv2d_737[0][0]                 \n",
            "__________________________________________________________________________________________________\n",
            "batch_normalization_740 (BatchN (None, 5, 5, 384)    1152        conv2d_740[0][0]                 \n",
            "__________________________________________________________________________________________________\n",
            "batch_normalization_741 (BatchN (None, 5, 5, 384)    1152        conv2d_741[0][0]                 \n",
            "__________________________________________________________________________________________________\n",
            "conv2d_742 (Conv2D)             (None, 5, 5, 192)    245760      average_pooling2d_70[0][0]       \n",
            "__________________________________________________________________________________________________\n",
            "batch_normalization_734 (BatchN (None, 5, 5, 320)    960         conv2d_734[0][0]                 \n",
            "__________________________________________________________________________________________________\n",
            "activation_736 (Activation)     (None, 5, 5, 384)    0           batch_normalization_736[0][0]    \n",
            "__________________________________________________________________________________________________\n",
            "activation_737 (Activation)     (None, 5, 5, 384)    0           batch_normalization_737[0][0]    \n",
            "__________________________________________________________________________________________________\n",
            "activation_740 (Activation)     (None, 5, 5, 384)    0           batch_normalization_740[0][0]    \n",
            "__________________________________________________________________________________________________\n",
            "activation_741 (Activation)     (None, 5, 5, 384)    0           batch_normalization_741[0][0]    \n",
            "__________________________________________________________________________________________________\n",
            "batch_normalization_742 (BatchN (None, 5, 5, 192)    576         conv2d_742[0][0]                 \n",
            "__________________________________________________________________________________________________\n",
            "activation_734 (Activation)     (None, 5, 5, 320)    0           batch_normalization_734[0][0]    \n",
            "__________________________________________________________________________________________________\n",
            "mixed9_0 (Concatenate)          (None, 5, 5, 768)    0           activation_736[0][0]             \n",
            "                                                                 activation_737[0][0]             \n",
            "__________________________________________________________________________________________________\n",
            "concatenate_14 (Concatenate)    (None, 5, 5, 768)    0           activation_740[0][0]             \n",
            "                                                                 activation_741[0][0]             \n",
            "__________________________________________________________________________________________________\n",
            "activation_742 (Activation)     (None, 5, 5, 192)    0           batch_normalization_742[0][0]    \n",
            "__________________________________________________________________________________________________\n",
            "mixed9 (Concatenate)            (None, 5, 5, 2048)   0           activation_734[0][0]             \n",
            "                                                                 mixed9_0[0][0]                   \n",
            "                                                                 concatenate_14[0][0]             \n",
            "                                                                 activation_742[0][0]             \n",
            "__________________________________________________________________________________________________\n",
            "conv2d_747 (Conv2D)             (None, 5, 5, 448)    917504      mixed9[0][0]                     \n",
            "__________________________________________________________________________________________________\n",
            "batch_normalization_747 (BatchN (None, 5, 5, 448)    1344        conv2d_747[0][0]                 \n",
            "__________________________________________________________________________________________________\n",
            "activation_747 (Activation)     (None, 5, 5, 448)    0           batch_normalization_747[0][0]    \n",
            "__________________________________________________________________________________________________\n",
            "conv2d_744 (Conv2D)             (None, 5, 5, 384)    786432      mixed9[0][0]                     \n",
            "__________________________________________________________________________________________________\n",
            "conv2d_748 (Conv2D)             (None, 5, 5, 384)    1548288     activation_747[0][0]             \n",
            "__________________________________________________________________________________________________\n",
            "batch_normalization_744 (BatchN (None, 5, 5, 384)    1152        conv2d_744[0][0]                 \n",
            "__________________________________________________________________________________________________\n",
            "batch_normalization_748 (BatchN (None, 5, 5, 384)    1152        conv2d_748[0][0]                 \n",
            "__________________________________________________________________________________________________\n",
            "activation_744 (Activation)     (None, 5, 5, 384)    0           batch_normalization_744[0][0]    \n",
            "__________________________________________________________________________________________________\n",
            "activation_748 (Activation)     (None, 5, 5, 384)    0           batch_normalization_748[0][0]    \n",
            "__________________________________________________________________________________________________\n",
            "conv2d_745 (Conv2D)             (None, 5, 5, 384)    442368      activation_744[0][0]             \n",
            "__________________________________________________________________________________________________\n",
            "conv2d_746 (Conv2D)             (None, 5, 5, 384)    442368      activation_744[0][0]             \n",
            "__________________________________________________________________________________________________\n",
            "conv2d_749 (Conv2D)             (None, 5, 5, 384)    442368      activation_748[0][0]             \n",
            "__________________________________________________________________________________________________\n",
            "conv2d_750 (Conv2D)             (None, 5, 5, 384)    442368      activation_748[0][0]             \n",
            "__________________________________________________________________________________________________\n",
            "average_pooling2d_71 (AveragePo (None, 5, 5, 2048)   0           mixed9[0][0]                     \n",
            "__________________________________________________________________________________________________\n",
            "conv2d_743 (Conv2D)             (None, 5, 5, 320)    655360      mixed9[0][0]                     \n",
            "__________________________________________________________________________________________________\n",
            "batch_normalization_745 (BatchN (None, 5, 5, 384)    1152        conv2d_745[0][0]                 \n",
            "__________________________________________________________________________________________________\n",
            "batch_normalization_746 (BatchN (None, 5, 5, 384)    1152        conv2d_746[0][0]                 \n",
            "__________________________________________________________________________________________________\n",
            "batch_normalization_749 (BatchN (None, 5, 5, 384)    1152        conv2d_749[0][0]                 \n",
            "__________________________________________________________________________________________________\n",
            "batch_normalization_750 (BatchN (None, 5, 5, 384)    1152        conv2d_750[0][0]                 \n",
            "__________________________________________________________________________________________________\n",
            "conv2d_751 (Conv2D)             (None, 5, 5, 192)    393216      average_pooling2d_71[0][0]       \n",
            "__________________________________________________________________________________________________\n",
            "batch_normalization_743 (BatchN (None, 5, 5, 320)    960         conv2d_743[0][0]                 \n",
            "__________________________________________________________________________________________________\n",
            "activation_745 (Activation)     (None, 5, 5, 384)    0           batch_normalization_745[0][0]    \n",
            "__________________________________________________________________________________________________\n",
            "activation_746 (Activation)     (None, 5, 5, 384)    0           batch_normalization_746[0][0]    \n",
            "__________________________________________________________________________________________________\n",
            "activation_749 (Activation)     (None, 5, 5, 384)    0           batch_normalization_749[0][0]    \n",
            "__________________________________________________________________________________________________\n",
            "activation_750 (Activation)     (None, 5, 5, 384)    0           batch_normalization_750[0][0]    \n",
            "__________________________________________________________________________________________________\n",
            "batch_normalization_751 (BatchN (None, 5, 5, 192)    576         conv2d_751[0][0]                 \n",
            "__________________________________________________________________________________________________\n",
            "activation_743 (Activation)     (None, 5, 5, 320)    0           batch_normalization_743[0][0]    \n",
            "__________________________________________________________________________________________________\n",
            "mixed9_1 (Concatenate)          (None, 5, 5, 768)    0           activation_745[0][0]             \n",
            "                                                                 activation_746[0][0]             \n",
            "__________________________________________________________________________________________________\n",
            "concatenate_15 (Concatenate)    (None, 5, 5, 768)    0           activation_749[0][0]             \n",
            "                                                                 activation_750[0][0]             \n",
            "__________________________________________________________________________________________________\n",
            "activation_751 (Activation)     (None, 5, 5, 192)    0           batch_normalization_751[0][0]    \n",
            "__________________________________________________________________________________________________\n",
            "mixed10 (Concatenate)           (None, 5, 5, 2048)   0           activation_743[0][0]             \n",
            "                                                                 mixed9_1[0][0]                   \n",
            "                                                                 concatenate_15[0][0]             \n",
            "                                                                 activation_751[0][0]             \n",
            "__________________________________________________________________________________________________\n",
            "flatten_6 (Flatten)             (None, 51200)        0           mixed10[0][0]                    \n",
            "__________________________________________________________________________________________________\n",
            "dense_7 (Dense)                 (None, 4)            204804      flatten_6[0][0]                  \n",
            "==================================================================================================\n",
            "Total params: 22,007,588\n",
            "Trainable params: 204,804\n",
            "Non-trainable params: 21,802,784\n",
            "__________________________________________________________________________________________________\n"
          ],
          "name": "stdout"
        }
      ]
    },
    {
      "cell_type": "code",
      "metadata": {
        "id": "5REqy73SvlhB",
        "colab_type": "code",
        "colab": {}
      },
      "source": [
        "# tell the model what cost and optimization method to use\n",
        "model.compile(\n",
        "  loss='categorical_crossentropy',\n",
        "  optimizer='adam',\n",
        "  metrics=['accuracy']\n",
        ")\n"
      ],
      "execution_count": 118,
      "outputs": []
    },
    {
      "cell_type": "code",
      "metadata": {
        "id": "zqk4ihhdvlhH",
        "colab_type": "code",
        "colab": {}
      },
      "source": [
        "# Use the Image Data Generator to import the images from the dataset\n",
        "from tensorflow.keras.preprocessing.image import ImageDataGenerator\n",
        "\n",
        "train_datagen = ImageDataGenerator(rescale = 1./255,\n",
        "                                   shear_range = 0.2,\n",
        "                                   zoom_range = 0.2,\n",
        "                                   horizontal_flip = True)\n",
        "\n",
        "test_datagen = ImageDataGenerator(rescale = 1./255)"
      ],
      "execution_count": 119,
      "outputs": []
    },
    {
      "cell_type": "code",
      "metadata": {
        "id": "zpK4RqbkvlhR",
        "colab_type": "code",
        "colab": {
          "base_uri": "https://localhost:8080/",
          "height": 34
        },
        "outputId": "a62ce4d2-ee1f-4803-a9f3-fa6ce62341db"
      },
      "source": [
        "# Make sure you provide the same target size as initialied for the image size\n",
        "training_set = train_datagen.flow_from_directory('/content/drive/My Drive/Datasets/train',\n",
        "                                                 target_size = (224, 224),\n",
        "                                                 batch_size = 32,\n",
        "                                                 class_mode = 'categorical')"
      ],
      "execution_count": 120,
      "outputs": [
        {
          "output_type": "stream",
          "text": [
            "Found 1951 images belonging to 4 classes.\n"
          ],
          "name": "stdout"
        }
      ]
    },
    {
      "cell_type": "code",
      "metadata": {
        "id": "z8OuKHpdvlhX",
        "colab_type": "code",
        "colab": {
          "base_uri": "https://localhost:8080/",
          "height": 34
        },
        "outputId": "1e7509ef-63c3-4bc7-b1dc-1904a85aa6fc"
      },
      "source": [
        "test_set = test_datagen.flow_from_directory('/content/drive/My Drive/Datasets/test',\n",
        "                                            target_size = (224, 224),\n",
        "                                            batch_size = 32,\n",
        "                                            class_mode = 'categorical')"
      ],
      "execution_count": 121,
      "outputs": [
        {
          "output_type": "stream",
          "text": [
            "Found 18 images belonging to 4 classes.\n"
          ],
          "name": "stdout"
        }
      ]
    },
    {
      "cell_type": "code",
      "metadata": {
        "id": "Mbf5dvuG_hdn",
        "colab_type": "code",
        "colab": {}
      },
      "source": [
        ""
      ],
      "execution_count": 121,
      "outputs": []
    },
    {
      "cell_type": "code",
      "metadata": {
        "scrolled": true,
        "id": "za5kwNHrvlhd",
        "colab_type": "code",
        "colab": {
          "base_uri": "https://localhost:8080/",
          "height": 726
        },
        "outputId": "3c71a249-7de3-4084-b6ad-32e3be295d6a"
      },
      "source": [
        "# fit the model\n",
        "# Run the cell. It will take some time to execute\n",
        "r = model.fit_generator(\n",
        "  training_set,\n",
        "  validation_data=test_set,\n",
        "  epochs=20,\n",
        "  steps_per_epoch=61,\n",
        "  validation_steps=2\n",
        ")"
      ],
      "execution_count": 122,
      "outputs": [
        {
          "output_type": "stream",
          "text": [
            "Epoch 1/20\n",
            "61/61 [==============================] - ETA: 0s - loss: 2.3556 - accuracy: 0.7406WARNING:tensorflow:Your input ran out of data; interrupting training. Make sure that your dataset or generator can generate at least `steps_per_epoch * epochs` batches (in this case, 2 batches). You may need to use the repeat() function when building your dataset.\n",
            "61/61 [==============================] - 41s 666ms/step - loss: 2.3556 - accuracy: 0.7406 - val_loss: 0.6747 - val_accuracy: 0.7778\n",
            "Epoch 2/20\n",
            "61/61 [==============================] - 33s 537ms/step - loss: 0.7011 - accuracy: 0.8929\n",
            "Epoch 3/20\n",
            "61/61 [==============================] - 32s 532ms/step - loss: 0.5576 - accuracy: 0.9134\n",
            "Epoch 4/20\n",
            "61/61 [==============================] - 32s 528ms/step - loss: 0.7193 - accuracy: 0.9057\n",
            "Epoch 5/20\n",
            "61/61 [==============================] - 32s 526ms/step - loss: 0.5608 - accuracy: 0.9113\n",
            "Epoch 6/20\n",
            "61/61 [==============================] - 32s 526ms/step - loss: 0.6240 - accuracy: 0.9165\n",
            "Epoch 7/20\n",
            "61/61 [==============================] - 33s 537ms/step - loss: 0.8406 - accuracy: 0.9108\n",
            "Epoch 8/20\n",
            "61/61 [==============================] - 32s 523ms/step - loss: 0.3195 - accuracy: 0.9493\n",
            "Epoch 9/20\n",
            "61/61 [==============================] - 32s 520ms/step - loss: 0.3831 - accuracy: 0.9498\n",
            "Epoch 10/20\n",
            "61/61 [==============================] - 32s 521ms/step - loss: 0.3318 - accuracy: 0.9426\n",
            "Epoch 11/20\n",
            "61/61 [==============================] - 31s 516ms/step - loss: 0.3340 - accuracy: 0.9569\n",
            "Epoch 12/20\n",
            "61/61 [==============================] - 31s 516ms/step - loss: 0.3318 - accuracy: 0.9518\n",
            "Epoch 13/20\n",
            "61/61 [==============================] - 31s 515ms/step - loss: 0.4697 - accuracy: 0.9498\n",
            "Epoch 14/20\n",
            "61/61 [==============================] - 31s 511ms/step - loss: 0.5406 - accuracy: 0.9385\n",
            "Epoch 15/20\n",
            "61/61 [==============================] - 31s 516ms/step - loss: 0.4202 - accuracy: 0.9539\n",
            "Epoch 16/20\n",
            "61/61 [==============================] - 32s 518ms/step - loss: 0.3062 - accuracy: 0.9600\n",
            "Epoch 17/20\n",
            "61/61 [==============================] - 32s 519ms/step - loss: 0.3155 - accuracy: 0.9605\n",
            "Epoch 18/20\n",
            "61/61 [==============================] - 31s 515ms/step - loss: 0.4859 - accuracy: 0.9528\n",
            "Epoch 19/20\n",
            "61/61 [==============================] - 31s 516ms/step - loss: 0.2735 - accuracy: 0.9646\n",
            "Epoch 20/20\n",
            "61/61 [==============================] - 31s 515ms/step - loss: 0.3115 - accuracy: 0.9651\n"
          ],
          "name": "stdout"
        }
      ]
    },
    {
      "cell_type": "code",
      "metadata": {
        "id": "QdfDPTwD_jp0",
        "colab_type": "code",
        "colab": {
          "base_uri": "https://localhost:8080/",
          "height": 34
        },
        "outputId": "e2f4d330-68a3-4447-f213-7368238ba7d8"
      },
      "source": [
        "len(training_set)\n"
      ],
      "execution_count": 123,
      "outputs": [
        {
          "output_type": "execute_result",
          "data": {
            "text/plain": [
              "61"
            ]
          },
          "metadata": {
            "tags": []
          },
          "execution_count": 123
        }
      ]
    },
    {
      "cell_type": "code",
      "metadata": {
        "id": "csYHdMDk_kFg",
        "colab_type": "code",
        "colab": {
          "base_uri": "https://localhost:8080/",
          "height": 34
        },
        "outputId": "1f71add3-366f-4aa3-9e43-80387d59e1a1"
      },
      "source": [
        "len(test_set)"
      ],
      "execution_count": 124,
      "outputs": [
        {
          "output_type": "execute_result",
          "data": {
            "text/plain": [
              "1"
            ]
          },
          "metadata": {
            "tags": []
          },
          "execution_count": 124
        }
      ]
    },
    {
      "cell_type": "code",
      "metadata": {
        "id": "rt0rSZlzvlhi",
        "colab_type": "code",
        "colab": {}
      },
      "source": [
        "import matplotlib.pyplot as plt"
      ],
      "execution_count": 125,
      "outputs": []
    },
    {
      "cell_type": "code",
      "metadata": {
        "id": "7X1Q0S5Evlhl",
        "colab_type": "code",
        "colab": {
          "base_uri": "https://localhost:8080/",
          "height": 530
        },
        "outputId": "9dc73b7f-3247-480e-aafa-4835d02de58f"
      },
      "source": [
        "# plot the loss\n",
        "plt.plot(r.history['loss'], label='train loss')\n",
        "plt.plot(r.history['val_loss'], label='val loss')\n",
        "plt.legend()\n",
        "plt.show()\n",
        "plt.savefig('LossVal_loss')\n",
        "\n",
        "# plot the accuracy\n",
        "plt.plot(r.history['accuracy'], label='train acc')\n",
        "plt.plot(r.history['val_accuracy'], label='val acc')\n",
        "plt.legend()\n",
        "plt.show()\n",
        "plt.savefig('AccVal_acc')"
      ],
      "execution_count": 126,
      "outputs": [
        {
          "output_type": "display_data",
          "data": {
            "image/png": "[encoded data removed]",
            "text/plain": [
              "<Figure size 432x288 with 1 Axes>"
            ]
          },
          "metadata": {
            "tags": [],
            "needs_background": "light"
          }
        },
        {
          "output_type": "display_data",
          "data": {
            "image/png": "[encoded data removed]",
            "text/plain": [
              "<Figure size 432x288 with 1 Axes>"
            ]
          },
          "metadata": {
            "tags": [],
            "needs_background": "light"
          }
        },
        {
          "output_type": "display_data",
          "data": {
            "text/plain": [
              "<Figure size 432x288 with 0 Axes>"
            ]
          },
          "metadata": {
            "tags": []
          }
        }
      ]
    },
    {
      "cell_type": "code",
      "metadata": {
        "id": "w05ia3sNvlhp",
        "colab_type": "code",
        "colab": {}
      },
      "source": [
        "# save it as a h5 file\n",
        "\n",
        "\n",
        "from tensorflow.keras.models import load_model\n",
        "\n",
        "model.save('model_inception.h5')"
      ],
      "execution_count": 127,
      "outputs": []
    },
    {
      "cell_type": "code",
      "metadata": {
        "id": "2PI2XdqVvlhs",
        "colab_type": "code",
        "colab": {}
      },
      "source": [
        ""
      ],
      "execution_count": 127,
      "outputs": []
    },
    {
      "cell_type": "code",
      "metadata": {
        "id": "aHE5Q6ZUvlhz",
        "colab_type": "code",
        "colab": {}
      },
      "source": [
        "\n",
        "y_pred = model.predict(test_set)\n"
      ],
      "execution_count": 128,
      "outputs": []
    },
    {
      "cell_type": "code",
      "metadata": {
        "id": "BrBOsGzQvlh3",
        "colab_type": "code",
        "colab": {
          "base_uri": "https://localhost:8080/",
          "height": 336
        },
        "outputId": "936521e6-556a-40d7-e701-34683e294f25"
      },
      "source": [
        "y_pred"
      ],
      "execution_count": 129,
      "outputs": [
        {
          "output_type": "execute_result",
          "data": {
            "text/plain": [
              "array([[9.99769747e-01, 2.30273872e-04, 1.72803149e-25, 4.59254088e-19],\n",
              "       [5.64398853e-37, 1.41681805e-11, 3.32207302e-36, 1.00000000e+00],\n",
              "       [8.75829507e-24, 8.90864585e-13, 1.00000000e+00, 1.49458050e-12],\n",
              "       [5.49319480e-38, 1.00000000e+00, 2.40076958e-23, 1.02614857e-18],\n",
              "       [1.38263740e-24, 2.09747450e-04, 1.99920652e-20, 9.99790251e-01],\n",
              "       [0.00000000e+00, 1.00000000e+00, 1.16269491e-32, 4.80047620e-28],\n",
              "       [1.27955296e-12, 9.76004124e-01, 2.21886607e-16, 2.39958595e-02],\n",
              "       [2.62895061e-27, 0.00000000e+00, 1.00000000e+00, 0.00000000e+00],\n",
              "       [0.00000000e+00, 1.00000000e+00, 0.00000000e+00, 0.00000000e+00],\n",
              "       [7.15968693e-22, 1.43495981e-07, 3.58846628e-05, 9.99963999e-01],\n",
              "       [2.96306491e-14, 5.33355937e-15, 1.00000000e+00, 1.83363310e-17],\n",
              "       [0.00000000e+00, 1.00000000e+00, 0.00000000e+00, 5.81846487e-29],\n",
              "       [5.13731212e-26, 1.00000000e+00, 1.09541729e-18, 1.92916451e-12],\n",
              "       [1.00000000e+00, 5.87041226e-36, 8.31341191e-23, 1.41578969e-21],\n",
              "       [0.00000000e+00, 4.29144955e-27, 9.52105320e-23, 1.00000000e+00],\n",
              "       [5.45454064e-11, 2.09307740e-03, 9.97906923e-01, 1.14338745e-20],\n",
              "       [3.04398767e-04, 5.16812918e-14, 9.99695659e-01, 1.42114119e-15],\n",
              "       [1.00000000e+00, 5.20788694e-28, 2.00567215e-24, 2.53067384e-38]],\n",
              "      dtype=float32)"
            ]
          },
          "metadata": {
            "tags": []
          },
          "execution_count": 129
        }
      ]
    },
    {
      "cell_type": "code",
      "metadata": {
        "id": "kGtUUffsvlh6",
        "colab_type": "code",
        "colab": {}
      },
      "source": [
        "import numpy as np\n",
        "y_pred = np.argmax(y_pred, axis=1)"
      ],
      "execution_count": 130,
      "outputs": []
    },
    {
      "cell_type": "code",
      "metadata": {
        "id": "zblxBQTsvlh9",
        "colab_type": "code",
        "colab": {
          "base_uri": "https://localhost:8080/",
          "height": 34
        },
        "outputId": "38af0b8a-56b9-4ac3-b6df-217db8d10d4e"
      },
      "source": [
        "y_pred"
      ],
      "execution_count": 131,
      "outputs": [
        {
          "output_type": "execute_result",
          "data": {
            "text/plain": [
              "array([0, 3, 2, 1, 3, 1, 1, 2, 1, 3, 2, 1, 1, 0, 3, 2, 2, 0])"
            ]
          },
          "metadata": {
            "tags": []
          },
          "execution_count": 131
        }
      ]
    },
    {
      "cell_type": "code",
      "metadata": {
        "id": "Phe4Xl09vliC",
        "colab_type": "code",
        "colab": {}
      },
      "source": [
        ""
      ],
      "execution_count": 131,
      "outputs": []
    },
    {
      "cell_type": "code",
      "metadata": {
        "id": "8HT3uCdpvliH",
        "colab_type": "code",
        "colab": {}
      },
      "source": [
        "from tensorflow.keras.models import load_model\n",
        "from tensorflow.keras.preprocessing import image"
      ],
      "execution_count": 137,
      "outputs": []
    },
    {
      "cell_type": "code",
      "metadata": {
        "id": "Qw_jiaNxvliM",
        "colab_type": "code",
        "colab": {}
      },
      "source": [
        "model=load_model('model_inception.h5')"
      ],
      "execution_count": 138,
      "outputs": []
    },
    {
      "cell_type": "code",
      "metadata": {
        "id": "VP2-k57RvliX",
        "colab_type": "code",
        "colab": {}
      },
      "source": [
        "img=image.load_img('/content/drive/My Drive/Datasets/test/diseased cotton leaf/dis_leaf (124).jpg',target_size=(224,224))\n",
        "\n"
      ],
      "execution_count": 142,
      "outputs": []
    },
    {
      "cell_type": "code",
      "metadata": {
        "id": "Cr2qmJHsvlia",
        "colab_type": "code",
        "colab": {
          "base_uri": "https://localhost:8080/",
          "height": 840
        },
        "outputId": "314f9720-d1d2-43d8-b6b5-1c5f669ca37e"
      },
      "source": [
        "x=image.img_to_array(img)\n",
        "x"
      ],
      "execution_count": 145,
      "outputs": [
        {
          "output_type": "execute_result",
          "data": {
            "text/plain": [
              "array([[[ 86.,  84.,  71.],\n",
              "        [ 83.,  85.,  72.],\n",
              "        [ 77.,  75.,  62.],\n",
              "        ...,\n",
              "        [116.,  96.,  85.],\n",
              "        [148., 128., 117.],\n",
              "        [135., 115., 104.]],\n",
              "\n",
              "       [[134., 130., 119.],\n",
              "        [103., 100.,  83.],\n",
              "        [ 99.,  97.,  84.],\n",
              "        ...,\n",
              "        [105.,  88.,  80.],\n",
              "        [127., 107.,  96.],\n",
              "        [127., 107.,  96.]],\n",
              "\n",
              "       [[152., 143., 138.],\n",
              "        [163., 153., 143.],\n",
              "        [ 80.,  77.,  60.],\n",
              "        ...,\n",
              "        [112.,  95.,  87.],\n",
              "        [127., 107.,  96.],\n",
              "        [126., 107.,  93.]],\n",
              "\n",
              "       ...,\n",
              "\n",
              "       [[170., 183., 137.],\n",
              "        [114., 116.,  94.],\n",
              "        [ 88.,  79.,  74.],\n",
              "        ...,\n",
              "        [157., 139., 135.],\n",
              "        [150., 135., 130.],\n",
              "        [117., 106., 102.]],\n",
              "\n",
              "       [[151., 157., 119.],\n",
              "        [ 99.,  93.,  77.],\n",
              "        [ 95.,  86.,  81.],\n",
              "        ...,\n",
              "        [133., 116., 109.],\n",
              "        [116., 101.,  94.],\n",
              "        [121., 110., 106.]],\n",
              "\n",
              "       [[104.,  97.,  79.],\n",
              "        [ 99.,  90.,  81.],\n",
              "        [ 88.,  77.,  73.],\n",
              "        ...,\n",
              "        [135., 118., 111.],\n",
              "        [133., 118., 111.],\n",
              "        [131., 116., 113.]]], dtype=float32)"
            ]
          },
          "metadata": {
            "tags": []
          },
          "execution_count": 145
        }
      ]
    },
    {
      "cell_type": "code",
      "metadata": {
        "id": "rtWL6un2vlid",
        "colab_type": "code",
        "colab": {
          "base_uri": "https://localhost:8080/",
          "height": 34
        },
        "outputId": "d72581cb-385b-4f01-86dc-fde4790740d1"
      },
      "source": [
        "x.shape"
      ],
      "execution_count": 146,
      "outputs": [
        {
          "output_type": "execute_result",
          "data": {
            "text/plain": [
              "(224, 224, 3)"
            ]
          },
          "metadata": {
            "tags": []
          },
          "execution_count": 146
        }
      ]
    },
    {
      "cell_type": "code",
      "metadata": {
        "id": "0RD5dfxLvlig",
        "colab_type": "code",
        "colab": {}
      },
      "source": [
        "x=x/255"
      ],
      "execution_count": 147,
      "outputs": []
    },
    {
      "cell_type": "code",
      "metadata": {
        "id": "Yn_JhLv5vlim",
        "colab_type": "code",
        "colab": {
          "base_uri": "https://localhost:8080/",
          "height": 34
        },
        "outputId": "238dd978-536b-4084-aae8-3ce32ab78acd"
      },
      "source": [
        "import numpy as np\n",
        "x=np.expand_dims(x,axis=0)\n",
        "img_data=preprocess_input(x)\n",
        "img_data.shape"
      ],
      "execution_count": 148,
      "outputs": [
        {
          "output_type": "execute_result",
          "data": {
            "text/plain": [
              "(1, 224, 224, 3)"
            ]
          },
          "metadata": {
            "tags": []
          },
          "execution_count": 148
        }
      ]
    },
    {
      "cell_type": "code",
      "metadata": {
        "id": "M8eb-kxHvliq",
        "colab_type": "code",
        "colab": {
          "base_uri": "https://localhost:8080/",
          "height": 34
        },
        "outputId": "1ba72cb0-d1db-4535-ab68-6a77cd0c42a1"
      },
      "source": [
        "model.predict(img_data)"
      ],
      "execution_count": 149,
      "outputs": [
        {
          "output_type": "execute_result",
          "data": {
            "text/plain": [
              "array([[0.40639442, 0.5848447 , 0.00563833, 0.00312256]], dtype=float32)"
            ]
          },
          "metadata": {
            "tags": []
          },
          "execution_count": 149
        }
      ]
    },
    {
      "cell_type": "code",
      "metadata": {
        "id": "ZL4DJRCjvlit",
        "colab_type": "code",
        "colab": {}
      },
      "source": [
        "a=np.argmax(model.predict(img_data), axis=1)"
      ],
      "execution_count": 150,
      "outputs": []
    },
    {
      "cell_type": "code",
      "metadata": {
        "id": "e00vLXuIvliw",
        "colab_type": "code",
        "colab": {
          "base_uri": "https://localhost:8080/",
          "height": 34
        },
        "outputId": "6f6216ed-0a87-469b-b845-78696b7ab1cc"
      },
      "source": [
        "a==1"
      ],
      "execution_count": 151,
      "outputs": [
        {
          "output_type": "execute_result",
          "data": {
            "text/plain": [
              "array([ True])"
            ]
          },
          "metadata": {
            "tags": []
          },
          "execution_count": 151
        }
      ]
    },
    {
      "cell_type": "code",
      "metadata": {
        "id": "PbUIWuRCvli9",
        "colab_type": "code",
        "colab": {}
      },
      "source": [
        ""
      ],
      "execution_count": null,
      "outputs": []
    }
  ]
}